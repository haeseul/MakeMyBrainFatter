{
  "metadata": {
    "language_info": {
      "codemirror_mode": {
        "name": "python",
        "version": 3
      },
      "file_extension": ".py",
      "mimetype": "text/x-python",
      "name": "python",
      "nbconvert_exporter": "python",
      "pygments_lexer": "ipython3",
      "version": "3.8"
    },
    "kernelspec": {
      "name": "python",
      "display_name": "Python (Pyodide)",
      "language": "python"
    }
  },
  "nbformat_minor": 4,
  "nbformat": 4,
  "cells": [
    {
      "cell_type": "markdown",
      "source": "# Data Structure\n\n## Ch01 Recursion",
      "metadata": {}
    },
    {
      "cell_type": "code",
      "source": "# 팩토리얼\ndef iFact(n):\n    result = 1\n    for i in range(1, n+1):\n        result *= i\n    return result\n\ndef rFact(n):\n    if n == 1:\n        return 1\n    else:\n        return n * rFact(n-1)\n    \nprint('iFact : %d \\nrFact : %d' % (iFact(5), rFact(5)))",
      "metadata": {
        "trusted": true
      },
      "execution_count": 10,
      "outputs": [
        {
          "name": "stdout",
          "text": "iFact : 120 \nrFact : 120\n",
          "output_type": "stream"
        }
      ]
    },
    {
      "cell_type": "code",
      "source": "# 거듭제곱\n\ndef iPower(x, n):\n    result = 1\n    for i in range(n):\n        result *= x\n    return result\n\ndef rPower(x, n):\n    if n == 0:\n        return 1\n    elif x%2 == 0:\n        return iPower(x**2, n//2)\n    else:\n        return x * iPower(x**2, (n-1)//2)\n\nprint('iPower : %d\\nrPower : %d' %(iPower(2, 10), rPower(2, 10)))",
      "metadata": {
        "trusted": true
      },
      "execution_count": 11,
      "outputs": [
        {
          "name": "stdout",
          "text": "iPower : 1024\nrPower : 1024\n",
          "output_type": "stream"
        }
      ]
    },
    {
      "cell_type": "code",
      "source": "# 피보나치\n\ndef rFib(n):\n    if n == 0:\n        return 0\n    elif n == 1:\n        return 1\n    else:\n        return rFib(n-1) + rFib(n-2)\n\n# 피보나치 메모이제이션    \n\ndef iFib(n):\n    if n < 2:\n        return n\n    a0 = 0\n    a1 = 1\n    for i in range(2, n+1):\n        a2 = a0 + a1\n        a0 = a1\n        a1 = a2\n    return a2\n\nprint('rFib : %d\\niFib : %d' %(rFib(10), iFib(10)))",
      "metadata": {
        "trusted": true
      },
      "execution_count": 34,
      "outputs": [
        {
          "name": "stdout",
          "text": "rFib : 55\niFib : 55\n",
          "output_type": "stream"
        }
      ]
    },
    {
      "cell_type": "code",
      "source": "# 하노이 타워\ndef hanoi(n, fr, tmp, to):\n    print('n : %d, from : %s, tmp : %s, to : %s' %(n, fr, tmp, to))\n    if n == 1:\n        print(' >>> Disk %d : %s --> %s' %(n, fr, to))\n    else:\n        hanoi(n-1, fr, to, tmp)\n        print('n : %d   /   from : %s, tmp : %s, to : %s' %(n, fr, tmp, to))\n        print(' >>> Disk %d : %s --> %s' %(n, fr, to))\n        hanoi(n-1, tmp, fr, to)\n        print('n : %d   /   from : %s, tmp : %s, to : %s' %(n, fr, tmp, to))\n\nhanoi(2, 'A', 'B', 'C')",
      "metadata": {
        "trusted": true
      },
      "execution_count": 47,
      "outputs": [
        {
          "name": "stdout",
          "text": "n : 2, from : A, tmp : B, to : C\nn : 1, from : A, tmp : C, to : B\n >>> Disk 1 : A --> B\nn : 2   /   from : A, tmp : B, to : C\n >>> Disk 2 : A --> C\nn : 1, from : B, tmp : A, to : C\n >>> Disk 1 : B --> C\nn : 2   /   from : A, tmp : B, to : C\n",
          "output_type": "stream"
        }
      ]
    },
    {
      "cell_type": "markdown",
      "source": "## Ch03\n- ArrayList\n- ArraySet",
      "metadata": {}
    },
    {
      "cell_type": "code",
      "source": "class ArrayList:\n    def __init__(self, capa = 100):\n        self.capa = capa\n        self.array = [None] * capa\n        self.size = 0\n    \n    def isEmpty(self):\n        return self.size == 0\n    \n    def isFull(self):\n        return self.size == self.capa\n            \n    def display(self):\n        for i in range(self.size):\n            print(self.array[i], end=' ')\n        print()\n    \n    def insert(self, pos, e):\n        if not self.isFull() and 0 <= pos <= self.size:\n            for i in range(self.size, pos, -1):\n                self.array[i] = self.array[i-1]\n            self.array[pos] = e\n            self.size += 1\n        else: print('Overflow or Invalid Position')\n    \n    def replace(self, pos, e):\n        if 0 <= pos < self.size:\n            self.array[pos] = e\n        else: pass\n    \n    def getEntry(self, pos):\n        if 0 <= pos < self.size:\n            return self.array[pos]\n        else: return None\n    \n    def delete(self, pos):\n        if not self.isEmpty() and 0 <= pos < self.size:\n            e = self.array[pos]\n            for i in range(pos, self.size):\n                self.array[i] = self.array[i+1]\n            self.size -= 1\n            return e\n        else: print('Underflow or Invalid Position')\n\nl1 = ArrayList(10)\nl1.insert(0, 10)\nl1.insert(0, 20)\nl1.insert(2, 30)\nl1.display()\n\nl1.delete(0)\nl1.display()\n\nl2 = ArrayList(7)\nl2.insert(0, 'a')\nl2.insert(1, 'b')\nl2.insert(0, 'c')\nl2.display()\n\nl2.delete(l2.size-1)\nl2.display()",
      "metadata": {
        "trusted": true
      },
      "execution_count": 55,
      "outputs": [
        {
          "name": "stdout",
          "text": "20 10 30 \n10 30 \nc a b \nc a \n",
          "output_type": "stream"
        }
      ]
    },
    {
      "cell_type": "code",
      "source": "class ArraySet:\n    def __init__(self, capa = 100):\n        self.capa = capa\n        self.array = [None] * capa\n        self.size = 0\n    \n    def isEmpty(self):\n        return self.size == 0\n    \n    def isFull(self):\n        return self.size == self.capa\n            \n    def display(self):\n        for i in range(self.size):\n            print(self.array[i], end=' ')\n        print()\n        \n    def contains(self, e):\n        for i in range(self.size):\n            if self.array[i] == e: return True\n        return False\n        \n    def insert(self, e):\n        if not self.isFull() and not self.contains(e):\n            self.array[self.size] = e\n            self.size += 1\n        \n    def delete(self, e):\n        if not self.isEmpty() and self.contains(e):\n            for i in range(self.size):\n                if self.array[i] == e:\n                    self.array[i] = self.array[self.size-1]\n                    self.size -= 1\n                    return\n                \n    def union(self, setB):\n        setC = ArraySet()\n        for i in range(self.size):\n            setC.insert(self.array[i])\n        for i in range(setB.size):\n            setC.insert(setB.array[i])\n        return setC\n    \n    def intersect(self, setB):\n        setC = ArraySet()\n        for i in range(self.size):\n            if self.contains(setB.array[i]):\n                setC.insert(setB.array[i])\n        return setC\n    \n    def difference(self, setB):\n        setC = ArraySet()\n        for i in range(self.size):\n            if not self.contains(setB.array[i]):\n                setC.insert(setB.array[i])\n            if not setB.contains(self.array[i]):\n                setC.insert(self.array[i])\n        return setC\n    \ns = ArraySet()\ns.insert(10)\ns.insert(30)\ns.insert(20)\ns.insert(50)\ns.display()\n\nt = ArraySet()\nt.insert(10)\nt.insert(40)\nt.insert(50)\nt.insert(15)\nt.display()\n\ns.union(t).display()\ns.intersect(t).display()\ns.difference(t).display()",
      "metadata": {
        "trusted": true
      },
      "execution_count": 68,
      "outputs": [
        {
          "name": "stdout",
          "text": "10 30 20 50 \n10 40 50 15 \n10 30 20 50 40 15 \n10 50 \n40 30 20 15 \n",
          "output_type": "stream"
        }
      ]
    },
    {
      "cell_type": "markdown",
      "source": "## Ch 04\n- Stack\n    1. 문자열 역순 출력\n    2. 괄호검사\n    3. 후위표기 계산\n    4. 중위표기 -> 후위표기\n    5. 미로탐색 (DFS)",
      "metadata": {}
    },
    {
      "cell_type": "code",
      "source": "class ArrayStack:\n    def __init__(self, capa = 100):\n        self.capa = capa\n        self.stack = [None] * capa\n        self.top = -1\n    \n    def isEmpty(self):\n        return self.top == -1\n    \n    def isFull(self):\n        return self.top == self.capa - 1\n            \n    def display(self):\n        print(self.stack[0:self.top+1])\n        \n    def push(self, e):   # top에 push\n        if not self.isFull():\n            self.top += 1\n            self.stack[self.top] = e\n        else: print('Overflow')\n        \n    def pop(self):   # top을 pop\n        if not self.isEmpty():\n            self.top -= 1\n            return self.stack[self.top+1]\n        else: print('Underflow')\n        \n    def peek(self):   # top만 peek\n        if not self.isEmpty():\n            return self.stack[self.top]\n        else: print('Empty')\n        \n    def sortedPush(self, e):\n        # 들어오는 숫자가 자리를 찾기\n        if not self.isFull():\n            if self.isEmpty() or e >= self.stack[self.top]:\n                self.top += 1\n                self.stack[self.top] = e\n            else:\n                a = 0\n                while self.stack[a] < e:\n                    a += 1\n                self.top += 1\n                for i in range(self.top, a, -1):\n                    self.stack[i] = self.stack[i-1]\n                self.stack[a] = e\n                \n        \ns = ArrayStack()\na = [0,1,2,4,5,6,7,8,9,10]\nfor i in a:\n    s.push(i)\ns.display()\nprint('After Pop : %c' %s.pop())\ns.display()\nprint('After Peek : %c' %s.peek())\ns.display()\n\ns.sortedPush(3)\ns.display()\ns.sortedPush(15)\ns.display()\ns.sortedPush(13)\ns.display()",
      "metadata": {
        "trusted": true
      },
      "execution_count": 50,
      "outputs": [
        {
          "name": "stdout",
          "text": "[0, 1, 2, 4, 5, 6, 7, 8, 9, 10]\nAfter Pop : \n\n[0, 1, 2, 4, 5, 6, 7, 8, 9]\nAfter Peek : \t\n[0, 1, 2, 4, 5, 6, 7, 8, 9]\n[0, 1, 2, 3, 4, 5, 6, 7, 8, 9]\n[0, 1, 2, 3, 4, 5, 6, 7, 8, 9, 15]\n[0, 1, 2, 3, 4, 5, 6, 7, 8, 9, 13, 15]\n",
          "output_type": "stream"
        }
      ]
    },
    {
      "cell_type": "code",
      "source": "k = ArrayStack()\nk.sortedPush(3)\nk.display()\nk.sortedPush(5)\nk.display()\nfor i in range(5):\n    k.sortedPush(i)\nk.display()",
      "metadata": {
        "trusted": true
      },
      "execution_count": 55,
      "outputs": [
        {
          "name": "stdout",
          "text": "[3]\n[3, 5]\n[0, 1, 2, 3, 3, 4, 5]\n",
          "output_type": "stream"
        }
      ]
    },
    {
      "cell_type": "markdown",
      "source": "### 1. 문자열 역순 출력",
      "metadata": {}
    },
    {
      "cell_type": "code",
      "source": "s = ArrayStack(100)\n\nmsg = '자료구조'\nfor c in msg:\n    s.push(c)\n\nprint('문자열 출력: ', end='')\nwhile not s.isEmpty():\n    print(s.pop(), end='')",
      "metadata": {
        "trusted": true
      },
      "execution_count": 147,
      "outputs": [
        {
          "name": "stdout",
          "text": "문자열 출력: 조구료자",
          "output_type": "stream"
        }
      ]
    },
    {
      "cell_type": "markdown",
      "source": "### 2. 괄호 검사",
      "metadata": {}
    },
    {
      "cell_type": "code",
      "source": "def checkBrackets(statement):\n    s = ArrayStack(100)\n    for c in statement:\n        if c == '(' or c == '{' or c == '[':\n            s.push(c)\n        elif c == ')' or c == '}' or c == ']':\n            if s.isEmpty():\n                return False   # 오른쪽 괄호가 먼저 나올 때\n            else:\n                left = s.pop()\n                if (left != '(' and c == ')') or \\\n                    (left != '{' and c == '}') or \\\n                    (left != '[' and c == ']'):\n                    return False     # 괄호 짝이 안 맞을 때\n    return s.isEmpty()    # 왼쪽 괄호 개수 != 오른쪽 괄호 개수\n\ns1 = \"{ a[ (i+1) ] = 0; }\"\ns2 = \"if( (i==0) && (j==0)\"\ns3 = \"a [ ( i+1 ] ) = 0; \"\nprint(s1, \"--->\", checkBrackets(s1))\nprint(s2, \"--->\", checkBrackets(s2))\nprint(s3, \"--->\", checkBrackets(s3))",
      "metadata": {
        "trusted": true
      },
      "execution_count": 150,
      "outputs": [
        {
          "name": "stdout",
          "text": "{ a[ (i+1) ] = 0; } ---> True\nif( (i==0) && (j==0) ---> False\na [ ( i+1 ] ) = 0;  ---> False\n",
          "output_type": "stream"
        }
      ]
    },
    {
      "cell_type": "markdown",
      "source": "### 3. 후위표기 계산",
      "metadata": {}
    },
    {
      "cell_type": "code",
      "source": "def evalPostfix(expr):\n    s = ArrayStack(100)\n    for c in expr:\n        if c not in '+-*/':\n            s.push(float(c))\n        else:\n            exp2 = s.pop()\n            exp1 = s.pop()\n            if c == '+':\n                result = exp1 + exp2\n            elif c == '-':\n                result = exp1 - exp2\n            elif c == '*':\n                result = exp1 * exp2\n            else:\n                result = exp1 / exp2\n            s.push(result)\n    return s.pop()\n\npostfix = '8 2 / 3 - 3 2 * +'\nprint(postfix, '--->', evalPostfix(postfix.split()))",
      "metadata": {
        "trusted": true
      },
      "execution_count": 2,
      "outputs": [
        {
          "name": "stdout",
          "text": "8 2 / 3 - 3 2 * + ---> 7.0\n",
          "output_type": "stream"
        }
      ]
    },
    {
      "cell_type": "markdown",
      "source": "### 4. 중위표기 -> 후위표기",
      "metadata": {}
    },
    {
      "cell_type": "code",
      "source": "# 연산자 우선순위 체크\ndef precedence(op):\n    if op == '(' or op == ')': return 0\n    elif op == '+' or op == '-': return 1\n    elif op == '*' or op == '/': return 2\n    else: return -1\n\n# 중위 -> 후위\ndef Infix2Postfix(expr):\n    s = ArrayStack(100)\n    postfix = []\n    for c in expr:\n        if c in '+-*/':\n            while not s.isEmpty():\n                op = s.peek()\n                if precedence(op) >= precedence(c):\n                    postfix.append(op)\n                    s.pop()\n                else: break\n            s.push(c)\n        elif c == '(':\n            s.push(c)\n        elif c == ')':\n            while not s.isEmpty():\n                op = s.pop()\n                if op == '(':\n                    break\n                else:\n                    postfix.append(op)\n        else:\n            postfix.append(c)\n    \n    while not s.isEmpty():\n        postfix.append(s.pop())\n\n    return ''.join(postfix)\n\ns1 = \"a + b * c\"\ns2 = \"a * b + c\"\ns3 = \"( a + b ) * c \"\nprint(s1, \"--->\", Infix2Postfix(s1.split()))\nprint(s2, \"--->\", Infix2Postfix(s2.split()))\nprint(s3, \"--->\", Infix2Postfix(s3.split()))",
      "metadata": {
        "trusted": true
      },
      "execution_count": 13,
      "outputs": [
        {
          "name": "stdout",
          "text": "a + b * c ---> abc*+\na * b + c ---> ab*c+\n( a + b ) * c  ---> ab+c*\n",
          "output_type": "stream"
        }
      ]
    },
    {
      "cell_type": "markdown",
      "source": "### 5. 미로탐색 (DFS)",
      "metadata": {}
    },
    {
      "cell_type": "code",
      "source": "map = [['1', '1', '1', '1', '1', '1'],\n       ['e', '0', '0', '0', '0', '1'],\n       ['1', '0', '1', '0', '1', '1'],\n       ['1', '1', '1', '0', '0', 'x'],\n       ['1', '1', '1', '0', '1', '1'],\n       ['1', '1', '1', '1', '1', '1']]\n\nsize = 6\n\ndef isValidPos(r, c):\n    if 0<=r<size and 0<=c<size:\n        if map[r][c] == '0' or map[r][c] == 'x':\n            return True\n    return False\n\ndef mazeDFS():\n    s = ArrayStack(100)\n    s.push((1, 0))   # 시작점\n    \n    while not s.isEmpty():\n        top = s.pop()\n        print(top, end=' -> ')\n        (r, c) = top\n        \n        if map[r][c] == 'x':\n            return True\n        else:\n            map[r][c] = '.'    # 방문한 위치 표시\n            if isValidPos(r-1, c): s.push((r-1, c))\n            if isValidPos(r+1, c): s.push((r+1, c))\n            if isValidPos(r, c-1): s.push((r, c-1))\n            if isValidPos(r, c+1): s.push((r, c+1))\n        s.display()\n    return False\n\nresult = mazeDFS()\nif result: print('Success')\nelse: print('Fail')",
      "metadata": {
        "trusted": true
      },
      "execution_count": 20,
      "outputs": [
        {
          "name": "stdout",
          "text": "(1, 0) -> [(1, 1)]\n(1, 1) -> [(2, 1), (1, 2)]\n(1, 2) -> [(2, 1), (1, 3)]\n(1, 3) -> [(2, 1), (2, 3), (1, 4)]\n(1, 4) -> [(2, 1), (2, 3)]\n(2, 3) -> [(2, 1), (3, 3)]\n(3, 3) -> [(2, 1), (4, 3), (3, 4)]\n(3, 4) -> [(2, 1), (4, 3), (3, 5)]\n(3, 5) -> Success\n",
          "output_type": "stream"
        }
      ]
    },
    {
      "cell_type": "markdown",
      "source": "# Ch 05\n- Circular Queue\n    1. 미로탐색 (BFS)\n- Circular Deque",
      "metadata": {}
    },
    {
      "cell_type": "code",
      "source": "class CircularQueue:\n    def __init__(self, capa=8):\n        self.capa = capa\n        self.queue = [None] * capa\n        self.front = self.rear = 0\n        \n    def isEmpty(self):\n        return self.front == self.rear\n    \n    def isFull(self):\n        return self.front == (self.rear + 1) % self.capa\n    \n    def enqueue(self, e):\n        if not self.isFull():\n            self.rear = (self.rear + 1) % self.capa\n            self.queue[self.rear] = e\n        else: print('Full')\n    \n    def dequeue(self):\n        if not self.isEmpty():\n            self.front = (self.front + 1) % self.capa\n            return self.queue[self.front]\n        else: print('Empty')\n    \n    def peek(self):\n        if not self.isEmpty():\n            return self.queue[(self.front+1)%self.capa]\n        else: print('Empty')\n        \n    def display(self):\n        print('Front : %d, Rear : %d' %(self.front, self.rear))\n        i = self.front\n        \n        while i != self.rear:\n            i = (i+1) % self.capa\n            print('[%s]' %self.queue[i], end =' ')\n        print()\n\nq = CircularQueue()\nq.enqueue('A')\nq.enqueue('B')\nq.enqueue('C')\nq.enqueue('D')\nq.enqueue('E')\nq.display()\n\nprint('Dequeue --> ', q.dequeue())\nprint('Dequeue --> ', q.dequeue())\nq.display()\n\nq.enqueue('W')\nq.enqueue('X')\nq.enqueue('Y')\nq.enqueue('Z')\nq.display()\n\nq.enqueue('T')",
      "metadata": {
        "trusted": true
      },
      "execution_count": 37,
      "outputs": [
        {
          "name": "stdout",
          "text": "Front : 0, Rear : 5\n[A] [B] [C] [D] [E] \nDequeue -->  A\nDequeue -->  B\nFront : 2, Rear : 5\n[C] [D] [E] \nFront : 2, Rear : 1\n[C] [D] [E] [W] [X] [Y] [Z] \nFull\n",
          "output_type": "stream"
        }
      ]
    },
    {
      "cell_type": "markdown",
      "source": "### 1. 미로탐색 (BFS)",
      "metadata": {}
    },
    {
      "cell_type": "code",
      "source": "map = [['1','1','1','1','1','1'],\n       ['e','0','1','0','0','1'],\n       ['1','0','0','0','1','1'],\n       ['1','0','1','0','1','1'],\n       ['1','0','1','0','0','x'],\n       ['1','1','1','1','1','1']]\nsize = 6\n\ndef isValidPos(r, c):\n    if 0<=r<size and 0<=c<size:\n        if map[r][c] == '0' or map[r][c] == 'x':\n            return True\n    return False\n\ndef mazeBFS():\n    q = CircularQueue()\n    q.enqueue((0,1))   # 시작점\n    \n    while not q.isEmpty():\n        here = q.dequeue()\n        (r, c) = here\n        print((r, c), end=' -> ')\n        \n        if map[r][c] == 'x':\n            return True\n        else:\n            map[r][c] = '.'\n            if isValidPos(r-1,c): q.enqueue((r-1,c))\n            if isValidPos(r+1,c): q.enqueue((r+1,c))\n            if isValidPos(r,c-1): q.enqueue((r,c-1))\n            if isValidPos(r,c+1): q.enqueue((r,c+1))\n    return False\n\nresult = mazeBFS()\nif result: print('Success')\nelse: print('Fail')",
      "metadata": {
        "trusted": true
      },
      "execution_count": 16,
      "outputs": [
        {
          "name": "stdout",
          "text": "(0, 1) -> (1, 1) -> (2, 1) -> (3, 1) -> (2, 2) -> (4, 1) -> (2, 3) -> (1, 3) -> (3, 3) -> (1, 4) -> (4, 3) -> (4, 4) -> (4, 5) -> Success\n",
          "output_type": "stream"
        }
      ]
    },
    {
      "cell_type": "code",
      "source": "class CircularDeque(CircularQueue):    # CircularQueue 상속\n    def __init__(self, capa = 10):\n        super().__init__(capa)\n        \n    def addRear(self, item): self.enqueue(item)\n    def deleteFront(self): self.dequeue()\n    def getFront(self): self.peek()\n\n    def addFront(self, e):\n        if not self.isFull():\n            self.queue[self.front] = e\n            self.front = (self.front -1 + self.capa) % self.capa\n        else: print('Full')\n        \n    def deleteRear(self):\n        if not self.isEmpty():\n            e = self.queue[self.rear]\n            self.rear = (self.rear - 1 + self.capa) % self.capa\n            return e\n        else: print('Empty')\n        \n    def getRear(self):\n        if not self.isEmpty():\n            return self.queue[self.rear]\n        else: print('Empty')\n\nimport random\nd = CircularDeque()\nfor i in range(4):\n    d.addFront(random.randint(65, 90))\nd.display()\nfor i in range(3):\n    d.addRear(random.randint(65, 90))\nd.display()\nfor i in range(2):\n    d.deleteFront()\nd.display()\nfor i in range(2):\n    d.deleteRear()\nd.display()",
      "metadata": {
        "trusted": true
      },
      "execution_count": 38,
      "outputs": [
        {
          "name": "stdout",
          "text": "Front : 6, Rear : 0\n[90] [75] [73] [86] \nFront : 6, Rear : 3\n[90] [75] [73] [86] [67] [79] [73] \nFront : 8, Rear : 3\n[73] [86] [67] [79] [73] \nFront : 8, Rear : 1\n[73] [86] [67] \n",
          "output_type": "stream"
        }
      ]
    },
    {
      "cell_type": "code",
      "source": "dq = CircularDeque()\n\nfor i in range(9):\n    if i%2==0: dq.addRear(i)\n    else: dq.addFront(i)\ndq.display()\n\nfor i in range(2): dq.deleteFront()\ndq.display()\nfor i in range(2): dq.deleteRear()\ndq.display()\n\nfor i in range(9, 14): dq.addFront(i)\ndq.display()",
      "metadata": {
        "trusted": true
      },
      "execution_count": 42,
      "outputs": [
        {
          "name": "stdout",
          "text": "Front : 6, Rear : 5\n[7] [5] [3] [1] [0] [2] [4] [6] [8] \nFront : 8, Rear : 5\n[3] [1] [0] [2] [4] [6] [8] \nFront : 8, Rear : 3\n[3] [1] [0] [2] [4] \nFull\nFront : 4, Rear : 3\n[12] [11] [10] [9] [3] [1] [0] [2] [4] \n",
          "output_type": "stream"
        }
      ]
    },
    {
      "cell_type": "markdown",
      "source": "## Priority Queue",
      "metadata": {}
    },
    {
      "cell_type": "code",
      "source": "class PriorityQueue:\n    def __init__(self, capa=10):\n        self.capa = capa\n        self.queue = [None] * capa\n        self.size = 0    # 요소개수\n        \n    def isEmpty(self):\n        return self.size == 0\n    \n    def isFull(self):\n        return self.size == self.capa-1\n    \n    def display(self):\n        print(self.queue[:self.size])\n        \n    def findMaxIndex(self):\n        if self.isEmpty():\n            max = -1    # Empty\n        else:\n            max = 0\n            for i in range(self.size):\n                if self.queue[i] > self.queue[max]:\n                    max = i\n        return max\n    \n    def enqueue(self, e):\n        if not self.isFull():\n            self.queue[self.size] = e\n            self.size += 1\n    \n    def dequeue(self):\n        highest = self.findMaxIndex()\n        if highest != -1:    # if not Empty\n            self.size -= 1   # priority를 맨 뒤로 보내서 size index와 일치시키기\n            self.queue[highest], self.queue[self.size] = self.queue[self.size], self.queue[highest]\n            return self.queue[self.size]\n        \n    def peek(self):\n        highest = self.findMaxIndex()\n        if highest != -1:\n            return self.queue[highest]",
      "metadata": {
        "trusted": true
      },
      "execution_count": 68,
      "outputs": []
    },
    {
      "cell_type": "code",
      "source": "p = PriorityQueue()\np.enqueue(34)\np.enqueue(18)\np.enqueue(27)\np.enqueue(45)\np.enqueue(15)\np.display()\nwhile not p.isEmpty():\n    print('Max Priority =', p.dequeue())",
      "metadata": {
        "trusted": true
      },
      "execution_count": 69,
      "outputs": [
        {
          "name": "stdout",
          "text": "[34, 18, 27, 45, 15]\nMax Priority = 45\nMax Priority = 34\nMax Priority = 27\nMax Priority = 18\nMax Priority = 15\n",
          "output_type": "stream"
        }
      ]
    },
    {
      "cell_type": "markdown",
      "source": "# Ch 06\n- Linked Stack\n- Linked List\n- Linked Queue\n- Linked Deque",
      "metadata": {}
    },
    {
      "cell_type": "markdown",
      "source": "## Linked Stack",
      "metadata": {}
    },
    {
      "cell_type": "code",
      "source": "class Node:\n    def __init__(self, data, next):\n        self.data = data\n        self.next = next    # 다음 것의 주소",
      "metadata": {
        "trusted": true
      },
      "execution_count": 70,
      "outputs": []
    },
    {
      "cell_type": "code",
      "source": "class StackType:\n    def __init__(self):\n        self.top = None\n        self.size = 0\n        \n    def isEmpty(self):\n        return self.top == None\n    \n    def clear(self):\n        self.top = None\n        return self.top\n    \n    def push(self, e): # insertFront\n        n = Node(e, self.top)\n        self.top = n\n        self.size += 1\n        \n    def pop(self):\n        if not self.isEmpty():\n            p = self.top\n            self.top = p.next\n            self.size -= 1\n            return p.data\n        else: pass\n    \n    def peek(self):\n        if not self.isEmpty():\n            return self.top.data\n        else: pass\n    \n    def display(self):\n        p = self.top\n        while p is not None:\n            print('[%s] -> ' % p.data, end='')\n            p = p.next\n        print()",
      "metadata": {
        "trusted": true
      },
      "execution_count": 87,
      "outputs": []
    },
    {
      "cell_type": "code",
      "source": "s = StackType()\ns.push('B')\ns.push('A')\ns.push('C')\ns.display()\nprint('Pop : %s' % s.pop())\ns.display()\nprint('Peek : %s' % s.peek())\ns.display()",
      "metadata": {
        "trusted": true
      },
      "execution_count": 88,
      "outputs": [
        {
          "name": "stdout",
          "text": "[C] -> [A] -> [B] -> \nPop : C\n[A] -> [B] -> \nPeek : A\n[A] -> [B] -> \n",
          "output_type": "stream"
        }
      ]
    },
    {
      "cell_type": "markdown",
      "source": "## Linked List",
      "metadata": {}
    },
    {
      "cell_type": "code",
      "source": "class ListType:\n    def __init__(self):\n        self.head = None\n        self.size = 0\n        \n    def isEmpty(self):\n        return self.head == None\n    \n    def getNode(self, pos):\n        if pos < 0: return None\n        p = self.head\n        while pos > 0 and pos != None:\n            p = p.next\n            pos -= 1\n        return p\n    \n    def insert(self, pos, e):\n        before = self.getNode(pos-1)\n        if before == None:    # 맨 앞에 넣는 경우\n            self.head = Node(e, self.head)\n        else:\n            node = Node(e, before.next)\n            before.next = node\n        self.size += 1\n        \n    def delete(self, pos):\n        before = self.getNode(pos-1)\n        if before == None:\n            if not self.isEmpty():\n                self.head = self.head.next\n        else:\n            before.next = before.next.next\n        self.size -= 1\n        \n    \n    def display(self):\n        p = self.head\n        while p != None:\n            print('[%s]' % p.data, end=' -> ')\n            p = p.next\n        print('\\b\\b\\b    ')",
      "metadata": {
        "trusted": true
      },
      "execution_count": 131,
      "outputs": []
    },
    {
      "cell_type": "code",
      "source": "l = ListType()\n\nl.insert(0, 'A')\nl.display()\nl.insert(1, 'B')\nl.display()\nl.insert(0, 'X')\nl.display()\nl.insert(l.size, 'C')   # 맨 뒤에 insert\nl.display()",
      "metadata": {
        "trusted": true
      },
      "execution_count": 136,
      "outputs": [
        {
          "name": "stdout",
          "text": "[A] ->    \n[A] -> [B] ->    \n[X] -> [A] -> [B] ->    \n[X] -> [A] -> [B] -> [C] ->    \n",
          "output_type": "stream"
        }
      ]
    },
    {
      "cell_type": "markdown",
      "source": "## Linked Queue",
      "metadata": {}
    },
    {
      "cell_type": "code",
      "source": "class QueueType:\n    def __init__(self):\n        self.tail = None\n        self.size = 0\n    \n    def isEmpty(self):\n        return self.tail is None\n    \n    def enqueue(self, e):\n        node = Node(e, None)\n        if self.isEmpty():    # 공백인경우\n            self.tail = node\n            node.next = node  # 자기자신 가리키기\n        else:\n            node.next = self.tail.next\n            self.tail.next = node\n            self.tail = node\n        self.size += 1\n        \n    def dequeue(self):\n        if not self.isEmpty():\n            e = self.tail.next.data    # 반환할 데이터\n            if self.tail.next == self.tail:\n                self.tail = None\n            else:\n                self.tail.next = self.tail.next.next\n            self.size -= 1\n        return e\n    \n    def insertFirst(self, e):\n        node = Node(e, None)\n        if self.isEmpty():\n            self.tail = node\n            node.next = node\n        else:\n            node.next = self.tail.next\n            self.tail.next = node\n        self.size += 1\n        \n    def display(self):\n        if not self.isEmpty():\n            p = self.tail.next\n            for i in range(self.size):\n                print('[%s]' % p.data, end=' -> ')\n                p = p.next\n            print()\n        else: pass",
      "metadata": {
        "trusted": true
      },
      "execution_count": 107,
      "outputs": []
    },
    {
      "cell_type": "code",
      "source": "q = QueueType()\nq.enqueue('A')\nq.display()\nq.enqueue('C')\nq.display()\nq.enqueue('B')\nq.display()\n\nq.insertFirst('D')\nq.display()",
      "metadata": {
        "trusted": true
      },
      "execution_count": 108,
      "outputs": [
        {
          "name": "stdout",
          "text": "[A] -> \n[A] -> [C] -> \n[A] -> [C] -> [B] -> \n[D] -> [A] -> [C] -> [B] -> \n",
          "output_type": "stream"
        }
      ]
    },
    {
      "cell_type": "markdown",
      "source": "## Doubled Linked Deque",
      "metadata": {}
    },
    {
      "cell_type": "code",
      "source": "class DNode:\n    def __init__(self, e, prev = None, next = None):\n        self.data = e\n        self.prev = prev\n        self.next = next",
      "metadata": {
        "trusted": true
      },
      "execution_count": 109,
      "outputs": []
    },
    {
      "cell_type": "code",
      "source": "class DListType():\n    def __init__(self):\n        self.front = None\n        self.rear = None\n        self.size = 0\n        \n    def isEmpty(self):\n        return self.front is None\n    \n    def addFront(self, e):\n        node = DNode(e, None, self.front)\n        if self.isEmpty():\n            self.front = self.rear = node\n        else:\n            self.front.prev = node\n            self.front = node\n        self.size += 1\n    \n    def addRear(self, e):\n        node = DNode(e, self.rear, None)\n        if self.isEmpty():\n            self.front = self.rear = node\n        else:\n            self.rear.next = node\n            self.rear = node\n        self.size += 1\n            \n    def add(self, pos, e):\n        node = DNode(e, None, None)\n        \n        if pos == 0:\n            self.addFront(e)\n        elif pos == self.size:\n            self.addRear(e)\n        else:\n            p = self.front\n            for i in range(pos-1):\n                p = p.next\n            node.prev = p\n            node.next = p.next\n            p.next.prev = node\n            p.next = node\n        self.size += 1\n        \n    def display(self):\n        if not self.isEmpty():\n            p = self.front\n            for i in range(self.size):\n                print('[%s]' % p.data, end=' -> ')\n                p = p.next\n            print()\n        else: pass",
      "metadata": {
        "trusted": true
      },
      "execution_count": 162,
      "outputs": []
    },
    {
      "cell_type": "code",
      "source": "dl = DListType()\ndl.addFront('A')\ndl.addFront('C')\ndl.addFront('D')\ndl.display()\n\ndl.addRear('E')\ndl.display()\n\ndl.add(4, 'Z')\ndl.display()",
      "metadata": {
        "trusted": true
      },
      "execution_count": 163,
      "outputs": [
        {
          "name": "stdout",
          "text": "[D] -> [C] -> [A] -> \n[D] -> [C] -> [A] -> [E] -> \n[D] -> [C] -> [A] -> [E] -> [Z] -> ",
          "output_type": "stream"
        },
        {
          "ename": "<class 'AttributeError'>",
          "evalue": "'NoneType' object has no attribute 'data'",
          "traceback": [
            "\u001b[0;31m---------------------------------------------------------------------------\u001b[0m",
            "\u001b[0;31mAttributeError\u001b[0m                            Traceback (most recent call last)",
            "Cell \u001b[0;32mIn[163], line 11\u001b[0m\n\u001b[1;32m      8\u001b[0m dl\u001b[38;5;241m.\u001b[39mdisplay()\n\u001b[1;32m     10\u001b[0m dl\u001b[38;5;241m.\u001b[39madd(\u001b[38;5;241m4\u001b[39m, \u001b[38;5;124m'\u001b[39m\u001b[38;5;124mZ\u001b[39m\u001b[38;5;124m'\u001b[39m)\n\u001b[0;32m---> 11\u001b[0m \u001b[43mdl\u001b[49m\u001b[38;5;241;43m.\u001b[39;49m\u001b[43mdisplay\u001b[49m\u001b[43m(\u001b[49m\u001b[43m)\u001b[49m\n",
            "Cell \u001b[0;32mIn[162], line 49\u001b[0m, in \u001b[0;36mDListType.display\u001b[0;34m(self)\u001b[0m\n\u001b[1;32m     47\u001b[0m p \u001b[38;5;241m=\u001b[39m \u001b[38;5;28mself\u001b[39m\u001b[38;5;241m.\u001b[39mfront\n\u001b[1;32m     48\u001b[0m \u001b[38;5;28;01mfor\u001b[39;00m i \u001b[38;5;129;01min\u001b[39;00m \u001b[38;5;28mrange\u001b[39m(\u001b[38;5;28mself\u001b[39m\u001b[38;5;241m.\u001b[39msize):\n\u001b[0;32m---> 49\u001b[0m     \u001b[38;5;28mprint\u001b[39m(\u001b[38;5;124m'\u001b[39m\u001b[38;5;124m[\u001b[39m\u001b[38;5;132;01m%s\u001b[39;00m\u001b[38;5;124m]\u001b[39m\u001b[38;5;124m'\u001b[39m \u001b[38;5;241m%\u001b[39m \u001b[43mp\u001b[49m\u001b[38;5;241;43m.\u001b[39;49m\u001b[43mdata\u001b[49m, end\u001b[38;5;241m=\u001b[39m\u001b[38;5;124m'\u001b[39m\u001b[38;5;124m -> \u001b[39m\u001b[38;5;124m'\u001b[39m)\n\u001b[1;32m     50\u001b[0m     p \u001b[38;5;241m=\u001b[39m p\u001b[38;5;241m.\u001b[39mnext\n\u001b[1;32m     51\u001b[0m \u001b[38;5;28mprint\u001b[39m()\n",
            "\u001b[0;31mAttributeError\u001b[0m: 'NoneType' object has no attribute 'data'"
          ],
          "output_type": "error"
        }
      ]
    },
    {
      "cell_type": "code",
      "source": "",
      "metadata": {},
      "execution_count": null,
      "outputs": []
    }
  ]
}