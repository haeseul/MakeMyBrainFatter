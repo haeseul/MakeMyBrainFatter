{
  "metadata": {
    "language_info": {
      "codemirror_mode": {
        "name": "python",
        "version": 3
      },
      "file_extension": ".py",
      "mimetype": "text/x-python",
      "name": "python",
      "nbconvert_exporter": "python",
      "pygments_lexer": "ipython3",
      "version": "3.8"
    },
    "kernelspec": {
      "name": "python",
      "display_name": "Python (Pyodide)",
      "language": "python"
    }
  },
  "nbformat_minor": 4,
  "nbformat": 4,
  "cells": [
    {
      "cell_type": "markdown",
      "source": "# Sorting\n1. Bubble\n2. Comb\n3. Selection\n4. Insertion\n## Bubble Sort",
      "metadata": {}
    },
    {
      "cell_type": "code",
      "source": "def bubble(a):\n    n = len(a)\n    for p in range(1, n):          # pass: 1, 2, .. n-1\n        for i in range(1, n-p+1):  # pass 끝난 후 정렬된 데이터는 제외\n            if a[i-1] > a[i]:\n                a[i-1], a[i] = a[i], a[i-1]\n    return a",
      "metadata": {
        "trusted": true
      },
      "execution_count": 13,
      "outputs": []
    },
    {
      "cell_type": "code",
      "source": "a = [4,3,5,2,1]\nprint(bubble(a))",
      "metadata": {
        "trusted": true
      },
      "execution_count": 14,
      "outputs": [
        {
          "name": "stdout",
          "text": "[1, 2, 3, 4, 5]\n",
          "output_type": "stream"
        }
      ]
    },
    {
      "cell_type": "code",
      "source": "def improvedBubble(a):\n    cntSwap, cntOps = 0, 0\n    n = len(a)\n    for p in range(1, n):\n        swapped = False\n        for i in range(1, n-p+1):\n            cntOps += 1\n            if a[i-1] > a[i]:\n                cntSwap += 1\n                a[i-1], a[i] = a[i], a[i-1]\n                swapped = True\n        if swapped is False:\n            break\n    return cntOps, cntSwap",
      "metadata": {
        "trusted": true
      },
      "execution_count": 35,
      "outputs": []
    },
    {
      "cell_type": "code",
      "source": "def improvedBubble2(a):\n    cntSwap, cntOps = 0, 0\n    n = len(a)\n    lastSwapPos = n\n    while lastSwapPos > 0:\n        swapPos = 0\n        for i in range(1, lastSwapPos):\n            cntOps += 1\n            if a[i-1] > a[i]:\n                cntSwap += 1\n                a[i-1], a[i] = a[i], a[i-1]\n                swapPos = i\n        lastSwapPos = swapPos\n    return cntOps, cntSwap",
      "metadata": {
        "trusted": true
      },
      "execution_count": 36,
      "outputs": []
    },
    {
      "cell_type": "code",
      "source": "a = [4,3,5,2,1]\nb = [1,2,3,4,5,6,7,8,9]\nc = [9,8,7,6,5,4,3,2,1]\nd = [9,6,3,1,2,4,5,7,8]\nprint(improvedBubble(a.copy()), improvedBubble2(a.copy()))\nprint(improvedBubble(b.copy()), improvedBubble2(b.copy()))\nprint(improvedBubble(c.copy()), improvedBubble2(c.copy()))\nprint(improvedBubble(d.copy()), improvedBubble2(d.copy()))",
      "metadata": {
        "trusted": true
      },
      "execution_count": 39,
      "outputs": [
        {
          "name": "stdout",
          "text": "(10, 8) (10, 8)\n(8, 0) (8, 0)\n(36, 36) (36, 36)\n(26, 15) (20, 15)\n",
          "output_type": "stream"
        }
      ]
    },
    {
      "cell_type": "markdown",
      "source": "## Comb Sort",
      "metadata": {}
    },
    {
      "cell_type": "code",
      "source": "def comb(a):\n    cntOps, cntSwap = 0, 0\n    n = len(a)\n    gap = n\n    shrink = 1.3\n    sorted = False\n    \n    # gap sequence 이후 gap 줄여나가기\n    while sorted is False:\n        gap = int(gap/shrink)\n        if gap <= 1:\n            gap = 1        # 정렬완료\n            sorted = True\n        i = 0\n        while i+gap < n:\n            cntOps += 1\n            if a[i] > a[i+gap]:\n                cntSwap += 1\n                a[i], a[i+gap] = a[i+gap], a[i]\n                sorted = False\n            i += 1\n    return cntOps, cntSwap",
      "metadata": {
        "trusted": true
      },
      "execution_count": 56,
      "outputs": []
    },
    {
      "cell_type": "code",
      "source": "print(comb(b.copy()))\nprint(comb(c.copy()))\nprint(comb(d.copy()))",
      "metadata": {
        "trusted": true
      },
      "execution_count": 57,
      "outputs": [
        {
          "name": "stdout",
          "text": "(29, 0)\n(29, 6)\n(37, 7)\n",
          "output_type": "stream"
        }
      ]
    },
    {
      "cell_type": "markdown",
      "source": "## Selection Sort",
      "metadata": {}
    },
    {
      "cell_type": "code",
      "source": "def seleciton(a):\n    cntOps, cntSwap = 0, 0\n    n = len(a)\n    for p in range(n):    # pass마다 맨 앞 데이터는 정렬완료\n        # 정렬X 중 최소값 찾기\n        target = p\n        for i in range(p+1, n):\n            cntOps += 1\n            if a[target] > a[i]:\n                target = i\n        if target != p:\n            cntSwap += 1\n            a[target], a[p] = a[p], a[target]\n    return a, cntOps, cntSwap",
      "metadata": {
        "trusted": true
      },
      "execution_count": 64,
      "outputs": []
    },
    {
      "cell_type": "code",
      "source": "print(seleciton(b.copy()))\nprint(seleciton(c.copy()))\nprint(seleciton(d.copy()))",
      "metadata": {
        "trusted": true
      },
      "execution_count": 65,
      "outputs": [
        {
          "name": "stdout",
          "text": "([1, 2, 3, 4, 5, 6, 7, 8, 9], 36, 0)\n([1, 2, 3, 4, 5, 6, 7, 8, 9], 36, 4)\n([1, 2, 3, 4, 5, 6, 7, 8, 9], 36, 7)\n",
          "output_type": "stream"
        }
      ]
    },
    {
      "cell_type": "markdown",
      "source": "## Insertion Sort",
      "metadata": {}
    },
    {
      "cell_type": "code",
      "source": "def insertion(a):\n    cntOps, cntSwap = 0, 0\n    n = len(a)\n    for i in range(1, n):\n        for j in range(i, 0, -1):\n            cntOps += 1\n            if a[j-1] > a[j]:\n                cntSwap += 1\n                a[j-1], a[j] = a[j], a[j-1]\n            else: break\n    return a, cntOps, cntSwap",
      "metadata": {
        "trusted": true
      },
      "execution_count": 68,
      "outputs": []
    },
    {
      "cell_type": "code",
      "source": "print(insertion(b.copy()))\nprint(insertion(c.copy()))\nprint(insertion(d.copy()))",
      "metadata": {
        "trusted": true
      },
      "execution_count": 69,
      "outputs": [
        {
          "name": "stdout",
          "text": "([1, 2, 3, 4, 5, 6, 7, 8, 9], 8, 0)\n([1, 2, 3, 4, 5, 6, 7, 8, 9], 36, 36)\n([1, 2, 3, 4, 5, 6, 7, 8, 9], 20, 15)\n",
          "output_type": "stream"
        }
      ]
    },
    {
      "cell_type": "markdown",
      "source": "## Shell Sort",
      "metadata": {}
    },
    {
      "cell_type": "code",
      "source": "def shell(a):\n    cntOps, cntSwap = 0, 0\n    n = len(a)\n    shrink = 2\n    gap = n // shrink\n    while gap > 0:\n        for i in range(0, n-gap, gap):\n            tmp = a[i]\n            for j in range(i, \n                if a[j] > a[j+gap]:\n                    a[j], a[j+gap] = a[j+gap], a[j]\n        \n        gap = int(gap/shrink)\n    return a, cntOps, cntSwap",
      "metadata": {},
      "execution_count": null,
      "outputs": []
    },
    {
      "cell_type": "code",
      "source": "def shell(a):\n    cntOps, cntSwap = 0, 0\n    n = len(a)\n    shrink = 2\n    gap = n // shrink\n    while gap > 0:\n        # print('gap = ', gap)\n        for i in range(gap, n):\n            # print('i = ', i)\n            for j in range(i, gap-1, -gap):\n                # print('    j = ', j)\n                cntOps += 1\n                # print('    ', a)   \n                # print('    a[j-gap] = ', a[j-gap], ', a[j] = ', a[j])\n                if a[j-gap] > a[j]:\n                    cntSwap += 1\n                    a[j], a[j-gap] = a[j-gap], a[j]\n                else: break\n            # print('    ', a)\n        gap //= shrink\n    return a, cntOps, cntSwap",
      "metadata": {
        "trusted": true
      },
      "execution_count": 86,
      "outputs": []
    },
    {
      "cell_type": "code",
      "source": "shell(d)",
      "metadata": {
        "trusted": true
      },
      "execution_count": 89,
      "outputs": [
        {
          "execution_count": 89,
          "output_type": "execute_result",
          "data": {
            "text/plain": "([1, 2, 3, 4, 5, 6, 7, 8, 9], 23, 7)"
          },
          "metadata": {}
        }
      ]
    },
    {
      "cell_type": "markdown",
      "source": "# Recursion\n\n## Type\n1. Unary : factorial, linear sum, reversing array, computing powers\n2. Binary : fibonacci, hanoi, merge sorting, quick sorting\n3. Multiple : flood fill, knight's tour",
      "metadata": {}
    },
    {
      "cell_type": "markdown",
      "source": "## Reverse Array",
      "metadata": {
        "tags": []
      }
    },
    {
      "cell_type": "code",
      "source": "def reverseArr(a, i, j):\n    if j<0: return 0\n    if i<j:\n        a[i], a[j] = a[j], a[i]\n        reverseArr(a, i+1, j-1)\n    return a",
      "metadata": {
        "trusted": true
      },
      "execution_count": 9,
      "outputs": []
    },
    {
      "cell_type": "code",
      "source": "a = [5,7,1,3,4,9,2,0,8,6]\nreverseArr(a, 0, len(a)-1)",
      "metadata": {
        "trusted": true
      },
      "execution_count": 10,
      "outputs": [
        {
          "execution_count": 10,
          "output_type": "execute_result",
          "data": {
            "text/plain": "[6, 8, 0, 2, 9, 4, 3, 1, 7, 5]"
          },
          "metadata": {}
        }
      ]
    },
    {
      "cell_type": "code",
      "source": "baseConv(1234567, 16)",
      "metadata": {
        "trusted": true
      },
      "execution_count": 7,
      "outputs": [
        {
          "name": "stdout",
          "text": "2d687",
          "output_type": "stream"
        }
      ]
    },
    {
      "cell_type": "markdown",
      "source": "## Faster Fibonacci",
      "metadata": {}
    },
    {
      "cell_type": "code",
      "source": "def matrix(a, b):\n    tmp = [[0,0],[0,0]]\n    for i in range(2):\n        for j in range(2):\n            for k in range(2):\n                tmp[i][k] += a[i][j] * b[j][k]\n                tmp[i][j] %= 1000    # 끝 세자리만 구하기\n    return tmp\n                \n\ndef fib(x, n):\n    if n == 0: return 0\n    elif n == 1: return x\n    if n%2 == 0:\n        tmp = fib(x, n//2)\n        return matrix(tmp, tmp)\n    else:\n        tmp = fib(x, n-1)\n    return matrix(x, tmp)",
      "metadata": {
        "trusted": true
      },
      "execution_count": 96,
      "outputs": []
    },
    {
      "cell_type": "code",
      "source": "n = 10\nA = [[1,1],[1,0]]\nif n <= 1:\n    print(n)\nelse:\n    print(fib(A, n)[0][1])",
      "metadata": {
        "trusted": true
      },
      "execution_count": 97,
      "outputs": [
        {
          "name": "stdout",
          "text": "55\n",
          "output_type": "stream"
        }
      ]
    },
    {
      "cell_type": "markdown",
      "source": "## Euclid (GCD)",
      "metadata": {}
    },
    {
      "cell_type": "code",
      "source": "def gcd(a, b):\n    if b == 0:\n        return a\n    else:\n        return gcd(b, a%b)",
      "metadata": {
        "trusted": true
      },
      "execution_count": 98,
      "outputs": []
    },
    {
      "cell_type": "code",
      "source": "gcd(1071, 1029)",
      "metadata": {
        "trusted": true
      },
      "execution_count": 99,
      "outputs": [
        {
          "execution_count": 99,
          "output_type": "execute_result",
          "data": {
            "text/plain": "21"
          },
          "metadata": {}
        }
      ]
    },
    {
      "cell_type": "markdown",
      "source": "## Computing Powers",
      "metadata": {}
    },
    {
      "cell_type": "code",
      "source": "def pow(x, n):\n    if n==0:\n        return 1\n    elif n%2==0:\n        tmp = pow(x, n//2)\n        return tmp * tmp\n    else:\n        tmp = pow(x, (n-1)//2)\n        return x * tmp * tmp",
      "metadata": {
        "trusted": true
      },
      "execution_count": 54,
      "outputs": []
    },
    {
      "cell_type": "code",
      "source": "pow(2, 16)",
      "metadata": {
        "trusted": true
      },
      "execution_count": 56,
      "outputs": [
        {
          "execution_count": 56,
          "output_type": "execute_result",
          "data": {
            "text/plain": "65536"
          },
          "metadata": {}
        }
      ]
    },
    {
      "cell_type": "markdown",
      "source": "## Count Up / Count Down",
      "metadata": {}
    },
    {
      "cell_type": "code",
      "source": "def countUp(n):\n    if n>0:\n        countUp(n-1)\n    print(n, end='')\n        \ndef countDown(n):\n    print(n, end='')\n    if n>0:\n        countDown(n-1)",
      "metadata": {
        "trusted": true
      },
      "execution_count": 14,
      "outputs": []
    },
    {
      "cell_type": "code",
      "source": "countUp(4)\nprint()\ncountDown(4)",
      "metadata": {
        "trusted": true
      },
      "execution_count": 15,
      "outputs": [
        {
          "name": "stdout",
          "text": "01234\n43210",
          "output_type": "stream"
        }
      ]
    },
    {
      "cell_type": "markdown",
      "source": "## Base Conversion",
      "metadata": {}
    },
    {
      "cell_type": "code",
      "source": "def baseConv(n, base):\n    baseTable = '0123456789abcdef'\n    if n // base > 0:\n        baseConv(n//base, base)\n        print(baseTable[n%base], end='')",
      "metadata": {
        "trusted": true
      },
      "execution_count": 6,
      "outputs": []
    },
    {
      "cell_type": "markdown",
      "source": "## Find Next Permutation",
      "metadata": {}
    },
    {
      "cell_type": "code",
      "source": "def nextP(p):\n    c = list(p)\n    n = len(c)\n    # 역순으로 증가하는 최대구간 R 찾기\n    i = n-2    # R 직전 인덱스\n    while i>0 and c[i] > c[i+1]:  # 감소지점 찾기\n        i -= 1\n    \n    # p 자체가 마지막 순열이었을 경우\n    if i==0 and c[i] > c[i+1]:\n        return ''.join(c[::-1])\n    \n    # R에서 c[i]보다 큰 문자 중 최소값 찾기\n    j = n-1\n    while c[i]>c[j]:\n        j -= 1\n    c[i], c[j] = c[j], c[i]\n    c = c[:i+1] + c[i+1:][::-1]\n    return ''.join(c)",
      "metadata": {
        "trusted": true
      },
      "execution_count": 116,
      "outputs": []
    },
    {
      "cell_type": "code",
      "source": "print(nextP('abc'))\nprint(nextP('cahfigedb'))\nprint(nextP('zyxwvutsrqponmlkjihgfedcba'))\nprint(nextP('azyxwvutsrqponmlkjihgfedcb'))\nprint(nextP('afedcb'))",
      "metadata": {
        "trusted": true
      },
      "execution_count": 121,
      "outputs": [
        {
          "name": "stdout",
          "text": "acb\ncahgbdefi\nabcdefghijklmnopqrstuvwxyz\nbacdefghijklmnopqrstuvwxyz\nbacdef\n",
          "output_type": "stream"
        }
      ]
    },
    {
      "cell_type": "code",
      "source": "def prevP(p):\n    c = list(p)\n    n = len(c)\n    # 감소 최대구간 R 찾기\n    i = n-2\n    while i>0 and c[i] < c[i+1]:\n        i -= 1\n        \n    # 첫번째 순열인 경우\n    if i==0 and c[i] < c[i+1]:\n        return ''.join(c[::-1])\n    \n    j = n-1\n    while c[i] < c[j]:\n        j -= 1\n    c[i], c[j] = c[j], c[i]\n    c = c[:i+1] + c[i+1:][::-1]\n    return ''.join(c)",
      "metadata": {
        "trusted": true
      },
      "execution_count": 108,
      "outputs": []
    },
    {
      "cell_type": "code",
      "source": "print(prevP('acbd'))",
      "metadata": {
        "trusted": true
      },
      "execution_count": 110,
      "outputs": [
        {
          "name": "stdout",
          "text": "abdc\n",
          "output_type": "stream"
        }
      ]
    },
    {
      "cell_type": "markdown",
      "source": "## Permutation",
      "metadata": {}
    },
    {
      "cell_type": "code",
      "source": "def permute(a, begin, end):\n    gap = end-begin\n    if gap == 1:\n        print(a,'\\n')\n        # print(0)\n    else:\n        for i in range(gap):\n            print('a[begin], a[begin+i] = ', a[begin], a[begin+i])\n            a[begin], a[begin+i] = a[begin+i], a[begin]\n            permute(a, begin+1, end)\n            a[begin], a[begin+i] = a[begin+i], a[begin]",
      "metadata": {
        "trusted": true
      },
      "execution_count": 122,
      "outputs": []
    },
    {
      "cell_type": "code",
      "source": "a = list('abc')\npermute(a, 0, len(a))",
      "metadata": {
        "trusted": true
      },
      "execution_count": 123,
      "outputs": [
        {
          "name": "stdout",
          "text": "a[begin], a[begin+i] =  a a\na[begin], a[begin+i] =  b b\n['a', 'b', 'c'] \n\na[begin], a[begin+i] =  b c\n['a', 'c', 'b'] \n\na[begin], a[begin+i] =  a b\na[begin], a[begin+i] =  a a\n['b', 'a', 'c'] \n\na[begin], a[begin+i] =  a c\n['b', 'c', 'a'] \n\na[begin], a[begin+i] =  a c\na[begin], a[begin+i] =  b b\n['c', 'b', 'a'] \n\na[begin], a[begin+i] =  b a\n['c', 'a', 'b'] \n\n",
          "output_type": "stream"
        }
      ]
    },
    {
      "cell_type": "code",
      "source": "N=3\narr=[]\nfor i in range(1, N+1):\n    arr.append(i)\n\ndef next_permutation():\n    #꼭대기 값 찾기\n    i=N-1\n    while(i>0 and arr[i-1]>=arr[i]):\n        i-=1\n\n    if i==0: #내림차순 정렬 완료\n        return False\n\n    #꼭대기-1보다 큰 값 찾기\n    #꼭대기+1~오른쪽 끝 값 중 큰 값이 없으면 꼭대기 값이랑 바꾼다\n    j=N-1\n    while(arr[i-1]>=arr[j]):\n        j-=1\n    arr[i-1], arr[j] = arr[j], arr[i-1]\n\n    #꼭대기 ~ 끝까지 reverseOrder\n    k=N-1\n    while(i<k):\n        arr[i], arr[k] = arr[k], arr[i]\n        i+=1\n        k-=1\n\n    return True\n\n\nwhile True:\n    for a in arr:\n        print(a, end=\" \")\n    print()\n\n    if not next_permutation():\n        break",
      "metadata": {
        "trusted": true
      },
      "execution_count": 124,
      "outputs": [
        {
          "name": "stdout",
          "text": "1 2 3 \n1 3 2 \n2 1 3 \n2 3 1 \n3 1 2 \n3 2 1 \n",
          "output_type": "stream"
        }
      ]
    },
    {
      "cell_type": "markdown",
      "source": "## Hanoi",
      "metadata": {}
    },
    {
      "cell_type": "code",
      "source": "def hanoi(n, fr, tmp, to):\n    if n == 1:\n        print('%s번째 : [%s] --> [%s]' %(n, fr, to))\n    else:\n        hanoi(n-1, fr, to, tmp)\n        print('%s번째 : [%s] --> [%s]' %(n, fr, to))\n        hanoi(n-1, tmp, fr, to)",
      "metadata": {
        "trusted": true
      },
      "execution_count": 130,
      "outputs": []
    },
    {
      "cell_type": "code",
      "source": "hanoi(3, '1', '2', '3')",
      "metadata": {
        "trusted": true
      },
      "execution_count": 133,
      "outputs": [
        {
          "name": "stdout",
          "text": "1번째 : [1] --> [3]\n2번째 : [1] --> [2]\n1번째 : [3] --> [2]\n3번째 : [1] --> [3]\n1번째 : [2] --> [1]\n2번째 : [2] --> [3]\n1번째 : [1] --> [3]\n",
          "output_type": "stream"
        }
      ]
    },
    {
      "cell_type": "code",
      "source": "",
      "metadata": {},
      "execution_count": null,
      "outputs": []
    }
  ]
}